{
 "cells": [
  {
   "cell_type": "markdown",
   "metadata": {},
   "source": [
    "# Design Notes\n",
    "\n",
    "2024-11-22\n",
    "\n",
    "Ver A2.2"
   ]
  },
  {
   "cell_type": "code",
   "execution_count": 1,
   "metadata": {},
   "outputs": [],
   "source": [
    "DATE = \"2024-11-22\"\n",
    "VERSION = \"A2.2\"\n",
    "\n",
    "VCC = 5\n",
    "Vio = 3.3"
   ]
  },
  {
   "cell_type": "markdown",
   "metadata": {},
   "source": [
    "## General PCB\n",
    "\n",
    "- ❌ Place ground plan below ⇒ `EXT GND` and `HALL GND`\n",
    "- ✅ Mounting holes (×4): 2.2mm\n",
    "- ✅ Check PCBWay standards: [Here][1]\n",
    "- Signal thickness: $0.2\\ mm$ ($8\\ mills$)\n",
    "\n",
    "[1]: https://www.pcbway.com/capabilities.html"
   ]
  },
  {
   "cell_type": "markdown",
   "metadata": {},
   "source": [
    "## I²C Bus ✅\n",
    "\n",
    "$$R_{min} = \\frac{V_{DD,max} - V_{OL,MAX}}{I_{OL}}$$\n",
    "\n",
    "- System IO Voltage: $V_{DD} = 3.3 \\ V \\pm 10 \\% \\Rightarrow V_{DD,MAX} = 3.36 V$\n",
    "- I²C Spec: $V_{OL,MAX} = 0.4 \\ V$\n",
    "- I²C Spec: $I_{OL} = 3 \\ mA$"
   ]
  },
  {
   "cell_type": "code",
   "execution_count": 2,
   "metadata": {},
   "outputs": [
    {
     "data": {
      "text/plain": [
       "986.6666666666666"
      ]
     },
     "execution_count": 2,
     "metadata": {},
     "output_type": "execute_result"
    }
   ],
   "source": [
    "Vddmax = 3.36\n",
    "Volmax = 0.4\n",
    "Iol = 3e-3\n",
    "Rmin = (Vddmax - Volmax)/Iol\n",
    "Rmin"
   ]
  },
  {
   "cell_type": "markdown",
   "metadata": {},
   "source": [
    "$$R_{min} \\approx 1.1 \\ k \\Omega$$"
   ]
  },
  {
   "cell_type": "markdown",
   "metadata": {},
   "source": [
    "\n",
    "$$R_{max} \\approx 1.18 \\cdot \\frac{t_{r,max}}{C_b}$$\n",
    "\n",
    "- I²C max rise time (400kHz): $t_{r,max} = 300 \\ ns$\n",
    "- Max supported capa: $C_{b,max} = 400 \\ pF$ $\\Rightarrow$ $R_{max} = 880 \\ \\Omega$\n",
    "- Schema load capa ($10 \\ pF$ per device + $2.2\\ pF$ per cm of microstrip): $50\\ pF$ $\\Rightarrow$ $R_{max} = 7 \\ k\\Omega$"
   ]
  },
  {
   "cell_type": "code",
   "execution_count": 3,
   "metadata": {},
   "outputs": [
    {
     "data": {
      "text/plain": [
       "(884.9999999999998, 7079.999999999998)"
      ]
     },
     "execution_count": 3,
     "metadata": {},
     "output_type": "execute_result"
    }
   ],
   "source": [
    "trmax = 300e-9\n",
    "Cbmaxth = 400e-12 # Theoretical\n",
    "Rmaxth = 1.18 * (trmax / Cbmaxth)\n",
    "Cbmaxr = 50e-12 # Realistic\n",
    "Rmaxr = 1.18 * (trmax / Cbmaxr)\n",
    "(Rmaxth, Rmaxr)"
   ]
  },
  {
   "cell_type": "markdown",
   "metadata": {},
   "source": [
    "<div style=\"border: 1px solid red;\">\n",
    "\n",
    "$$R_{pu,I2C} = 2.2 \\ k\\Omega$$\n",
    "\n",
    "</div>"
   ]
  },
  {
   "cell_type": "markdown",
   "metadata": {},
   "source": [
    "Route the SDA and SCL away from each other (space at least 3H), pass through the pull-up resistorsn keep the lines as short as possible, as thin as possible (increases capacitance) ⇒\n",
    "\n",
    "<div style=\"border: 1px solid red;\">\n",
    "\n",
    "$$\\text{microstrip thickness} = 0.2\\ mm (8\\ mills)$$\n",
    "\n",
    "</div>\n",
    "\n",
    "Place over <span style=\"color: red\">**static plane**</span> (GND or 5V)."
   ]
  },
  {
   "cell_type": "markdown",
   "metadata": {},
   "source": [
    "## SPI Bus ✅\n",
    "\n",
    "No particular restriction, not specifically high speed, no pull-ups, no serie resistor\n",
    "\n",
    "<div style=\"border: 1px solid red;\">\n",
    "\n",
    "$$\\text{microstrip thickness} = 0.2\\ mm (8\\ mills)$$\n",
    "\n",
    "</div>"
   ]
  },
  {
   "cell_type": "markdown",
   "metadata": {},
   "source": [
    "## Hall sensors ✅\n",
    "\n",
    "`A3144` was validated on direct input of the ESP32. $10\\ k\\Omega$ resistors were validated as functional. $5\\ V$ input worked OK."
   ]
  },
  {
   "cell_type": "markdown",
   "metadata": {},
   "source": [
    "## Battery Pack ✅\n",
    "\n",
    "- It looks like the battery pack **needs to be drained** of current every 5s, sometimes minutes.\n",
    "- $22 \\Omega$ resistor is proposed, which drains $227\\ mA$ ⇒ $1.14\\ W$.\n",
    "- This is **too heavy** for standard $1/4\\ W$ resistors. ⇒\n",
    "  - Resistor will be loaded for too little time (few ns)\n",
    "  - Use $4 \\times (4 \\times 22\\ \\Omega) = 4 \\times 100\\ \\Omega$\n",
    "  - Use $1\\ W$-rated resistor\n",
    "\n",
    "⇒ Solution: Use 2 parallel $100\\ \\Omega$ resistors ✅"
   ]
  },
  {
   "cell_type": "code",
   "execution_count": 4,
   "metadata": {},
   "outputs": [
    {
     "data": {
      "text/plain": [
       "(0.22727272727272727, 1.1363636363636362)"
      ]
     },
     "execution_count": 4,
     "metadata": {},
     "output_type": "execute_result"
    }
   ],
   "source": [
    "Rbatt = 22\n",
    "Irbatt = VCC/Rbatt\n",
    "Prbatt = VCC * Irbatt\n",
    "(Irbatt, Prbatt)"
   ]
  },
  {
   "cell_type": "markdown",
   "metadata": {},
   "source": [
    "- 2N7000 Max I: $0.2\\ A$, Peak: $0.8\\ A$ ⇒ Mostly OK"
   ]
  },
  {
   "cell_type": "markdown",
   "metadata": {},
   "source": [
    "## ~~I2S bus~~\n",
    "\n",
    "- high speed, over ground plane\n",
    "- shorter as possible\n",
    "\n",
    "- Check resistors, it doesn't seem logical at all ⇒ ~~remove (direct connection, module is enough)~~\n",
    "\n",
    "$$\\text{microstrip thickness} = 0.2\\ mm (8\\ mills)$$"
   ]
  },
  {
   "cell_type": "markdown",
   "metadata": {},
   "source": [
    "## Button & Status LED ✅\n",
    "\n",
    "- Create a simple multi-function push-button\n",
    "- Make a multicolor (RGB?) status LED"
   ]
  },
  {
   "cell_type": "code",
   "execution_count": 5,
   "metadata": {},
   "outputs": [
    {
     "data": {
      "text/plain": [
       "(76.99999999999999, 34.999999999999986, 30.999999999999982)"
      ]
     },
     "execution_count": 5,
     "metadata": {},
     "output_type": "execute_result"
    }
   ],
   "source": [
    "Vr = 1.76 # Ir = 44nA\n",
    "Vb = 2.60 # Ir = 44nA\n",
    "Vg = 2.68 # Ir = 44nA\n",
    "Irgbmax = 30e-3\n",
    "Iiomax = 20e-3\n",
    "Imax = min(Irgbmax, Iiomax)\n",
    "Rr, Rb, Rg = (Vio-Vr)/Imax, (Vio-Vb)/Imax, (Vio-Vg)/Imax\n",
    "(Rr, Rb, Rg)"
   ]
  },
  {
   "cell_type": "markdown",
   "metadata": {},
   "source": [
    "Resistance selection:\n",
    "- Button: $1\\ k\\Omega$ to 5V, $1.5\\ k\\Omega$ to GND (voltage divider + pull-down)\n",
    "- Red: $100\\ \\Omega$ to PIN\n",
    "- Blue $68\\ \\Omega$ to PIN\n",
    "- Green: $220\\ \\Omega$ to PIN"
   ]
  },
  {
   "cell_type": "markdown",
   "metadata": {},
   "source": [
    "## PMA8403 Module ✅\n",
    "\n",
    "- Place on the board\n",
    "- Wire GND between the I2S signals\n",
    "- Do footprint to keep spacing between slots\n"
   ]
  },
  {
   "cell_type": "markdown",
   "metadata": {},
   "source": [
    "## Resistor Check-Up ✅\n",
    "\n",
    "- `0805`: $1/8\\ W$\n",
    "- `1206`: $1/4\\ W$ (Mandatory for $R8$ & $R9$)"
   ]
  },
  {
   "cell_type": "code",
   "execution_count": 6,
   "metadata": {},
   "outputs": [
    {
     "data": {
      "text/plain": [
       "{'powers': (0.011363636363636364, 0.010889999999999999, 0.5, 0.004356, 0.0025),\n",
       " 'compatible': ['yes', 'yes', 'no', 'yes', 'yes']}"
      ]
     },
     "execution_count": 6,
     "metadata": {},
     "output_type": "execute_result"
    }
   ],
   "source": [
    "P_R1R2 = 5**2 / 2.2e3\n",
    "P_R3R10R16 = 3.3**2 / 1e3\n",
    "P_R8R9 = 5**2 / 50\n",
    "P_R11R12 = 3.3**2 / (1e3 + 1.5e3)\n",
    "P_R17R40 = 5**2 / 10e3\n",
    "powers = (P_R1R2, P_R3R10R16, P_R8R9, P_R11R12, P_R17R40)\n",
    "{\n",
    "    \"powers\": powers,\n",
    "    \"compatible\": [\"yes\" if i < (1/8) else \"no\" for i in powers]\n",
    "}"
   ]
  },
  {
   "cell_type": "markdown",
   "metadata": {},
   "source": [
    "- `0805` enough for all resistors except $R8$ and $R9$ (power drain keep alive)\n",
    "- `1206` minimal for $R8$ and $R9$."
   ]
  },
  {
   "cell_type": "markdown",
   "metadata": {},
   "source": [
    "## Reserved IO Checks ✅\n",
    "\n",
    "- Boot Mode strapping: GPIO0, GPIO2, **GPIO5**\n",
    "- GPIO5 is used as VSPICS\n",
    "- [Datasheet][3]\n",
    "- [Technical Reference Manual][2]\n",
    "- Both General Purpose SPI can use any GPIO ⇒ Move away frpom GPIO5\n",
    "\n",
    "[2]: https://www.espressif.com/sites/default/files/documentation/esp32_technical_reference_manual_en.pdf\n",
    "[3]: https://www.espressif.com/sites/default/files/documentation/esp32_datasheet_en.pdf"
   ]
  },
  {
   "cell_type": "markdown",
   "metadata": {},
   "source": [
    "## DAC ✅\n",
    "\n",
    "- The lines are actually not I2S at all! Need the resistors and protect the lines from interferences.\n",
    "- Used $22\\ k\\Omega$ and $4.7\\ k\\Omega$ resistors like [in the blog post][4]\n",
    "\n",
    "[4]: https://www.az-delivery.de/en/blogs/azdelivery-blog-fur-arduino-und-raspberry-pi/internet-radio-mit-dem-esp32\n"
   ]
  },
  {
   "cell_type": "markdown",
   "metadata": {},
   "source": [
    "## MOSFETs as GND switches ✅\n",
    "\n",
    "- After remarks from https://www.eevblog.com/forum/projects/need-review-diy-calendar-house/msg5722997/#msg5722997\n",
    "- Following https://www.electronics-tutorials.ws/transistor/tran_7.html\n",
    "- Reworked all three switches\n",
    "\n",
    "Still not OK, the voltage drop can reach $0.2\\ V$. It's okay for the Hall sensors, but not if chained. ⇒ removing EXT_GND switch, adding specific logic to turn LEDs off using OE pin. ⇒ DONE.\n"
   ]
  },
  {
   "cell_type": "code",
   "execution_count": null,
   "metadata": {},
   "outputs": [],
   "source": []
  }
 ],
 "metadata": {
  "kernelspec": {
   "display_name": "base",
   "language": "python",
   "name": "python3"
  },
  "language_info": {
   "codemirror_mode": {
    "name": "ipython",
    "version": 3
   },
   "file_extension": ".py",
   "mimetype": "text/x-python",
   "name": "python",
   "nbconvert_exporter": "python",
   "pygments_lexer": "ipython3",
   "version": "3.12.7"
  }
 },
 "nbformat": 4,
 "nbformat_minor": 2
}
