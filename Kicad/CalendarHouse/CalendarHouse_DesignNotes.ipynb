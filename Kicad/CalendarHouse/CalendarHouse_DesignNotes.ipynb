{
 "cells": [
  {
   "cell_type": "markdown",
   "metadata": {},
   "source": [
    "# Design Notes\n",
    "\n",
    "2024-11-23\n",
    "\n",
    "Ver A2.3"
   ]
  },
  {
   "cell_type": "code",
   "execution_count": 9,
   "metadata": {},
   "outputs": [],
   "source": [
    "DATE = \"2024-11-23\"\n",
    "VERSION = \"A2.3\"\n",
    "\n",
    "VCC = 5\n",
    "Vio = 3.3"
   ]
  },
  {
   "cell_type": "markdown",
   "metadata": {},
   "source": [
    "## General PCB ✅\n",
    "\n",
    "- ✅ Place ground plan below ⇒ `EXT GND` and `HALL GND`\n",
    "- ✅ Mounting holes (×4): 2.2 mm\n",
    "- ✅ Check PCBWay standards: [Here][1]\n",
    "- Signal thickness: $0.2\\ \\text{mm}$ ($8\\ \\text{mills}$)\n",
    "\n",
    "[1]: https://www.pcbway.com/capabilities.html"
   ]
  },
  {
   "cell_type": "markdown",
   "metadata": {},
   "source": [
    "## I²C Bus ✅\n",
    "\n",
    "$$R_{\\text{min}} = \\frac{V_{\\text{DD,max}} - V_{\\text{OL,MAX}}}{I_{\\text{OL}}}$$\n",
    "\n",
    "- System IO Voltage: $V_{\\text{DD}} = 3.3 \\ \\text{V} \\pm 10 \\% \\Rightarrow V_{\\text{DD,MAX}} = 3.36 \\text{V}$\n",
    "- I²C Spec: $V_{\\text{OL,MAX}} = 0.4 \\ \\text{V}$\n",
    "- I²C Spec: $I_{\\text{OL}} = 3 \\ \\text{mA}$"
   ]
  },
  {
   "cell_type": "code",
   "execution_count": 10,
   "metadata": {},
   "outputs": [
    {
     "data": {
      "text/plain": [
       "986.6666666666666"
      ]
     },
     "execution_count": 10,
     "metadata": {},
     "output_type": "execute_result"
    }
   ],
   "source": [
    "Vddmax = 3.36\n",
    "Volmax = 0.4\n",
    "Iol = 3e-3\n",
    "Rmin = (Vddmax - Volmax)/Iol\n",
    "Rmin"
   ]
  },
  {
   "cell_type": "markdown",
   "metadata": {},
   "source": [
    "$$R_{\\text{min}} \\approx 1.1 \\ \\text{k}\\Omega$$\n",
    "\n",
    "$$R_{\\text{max}} \\approx 1.18 \\cdot \\frac{t_{\\text{r,max}}}{C_{\\text{b}}}$$\n",
    "\n",
    "- I²C max rise time (400kHz): $t_{\\text{r,max}} = 300 \\ \\text{ns}$\n",
    "- Max supported capa: $C_{\\text{b,max}} = 400 \\ pF$ ⇒ $R_{\\text{max}} = 880 \\ \\Omega$\n",
    "- Schema load capa ($10 \\ \\text{pF}$ per device + $2.2\\ \\text{pF}$ per cm of microstrip): $50\\ \\text{pF}$ ⇒ $R_{\\text{max}} = 7 \\ \\text{k}\\Omega$"
   ]
  },
  {
   "cell_type": "code",
   "execution_count": 11,
   "metadata": {},
   "outputs": [
    {
     "data": {
      "text/plain": [
       "(884.9999999999998, 7079.999999999998)"
      ]
     },
     "execution_count": 11,
     "metadata": {},
     "output_type": "execute_result"
    }
   ],
   "source": [
    "trmax = 300e-9\n",
    "Cbmaxth = 400e-12 # Theoretical\n",
    "Rmaxth = 1.18 * (trmax / Cbmaxth)\n",
    "Cbmaxr = 50e-12 # Realistic\n",
    "Rmaxr = 1.18 * (trmax / Cbmaxr)\n",
    "(Rmaxth, Rmaxr)"
   ]
  },
  {
   "cell_type": "markdown",
   "metadata": {},
   "source": [
    "<div style=\"border: 1px solid red;\">\n",
    "\n",
    "$$R_{\\text{pu},I^2C} = 2.2 \\ \\text{k}\\Omega$$\n",
    "\n",
    "</div>"
   ]
  },
  {
   "cell_type": "markdown",
   "metadata": {},
   "source": [
    "Route the SDA and SCL away from each other (space at least 3H), pass through the pull-up resistorsn keep the lines as short as possible, as thin as possible (increases capacitance) ⇒\n",
    "\n",
    "<div style=\"border: 1px solid red;\">\n",
    "\n",
    "$$\\text{microstrip thickness} = 0.2\\ \\text{mm} (8\\ \\text{mills})$$\n",
    "\n",
    "</div>\n",
    "\n",
    "Place over <span style=\"color: red\">**static plane**</span> (GND or 5V)."
   ]
  },
  {
   "cell_type": "markdown",
   "metadata": {},
   "source": [
    "## SPI Bus ✅\n",
    "\n",
    "No particular restriction, not specifically high speed, no pull-ups, no serie resistor\n",
    "\n",
    "<div style=\"border: 1px solid red;\">\n",
    "\n",
    "$$\\text{microstrip thickness} = 0.2\\ \\text{mm} (8\\ \\text{mills})$$\n",
    "\n",
    "</div>"
   ]
  },
  {
   "cell_type": "markdown",
   "metadata": {},
   "source": [
    "## Hall sensors ✅\n",
    "\n",
    "`A3144` was validated on direct input of the ESP32. $10\\ \\text{k}\\Omega$ resistors were validated as functional. $5\\ \\text{V}$ input worked OK."
   ]
  },
  {
   "cell_type": "markdown",
   "metadata": {},
   "source": [
    "## Battery Pack ✅\n",
    "\n",
    "- It looks like the battery pack **needs to be drained** of current every 5s, sometimes minutes.\n",
    "- $22\\,\\Omega$ resistor is proposed, which drains $227\\,\\text{mA}$ ⇒ $1.14\\,\\text{W}$.\n",
    "- This is **too heavy** for standard $1/4\\ \\text{W}$ resistors. ⇒\n",
    "  - Resistor will be loaded for too little time (few ns)\n",
    "  - Use $4 \\times (4 \\times 22\\ \\Omega) = 4 \\times 100\\ \\Omega$\n",
    "  - Use $1\\ \\text{W}$-rated resistor\n",
    "\n",
    "⇒ Solution: Use 2 parallel $100\\ \\Omega$ resistors ✅"
   ]
  },
  {
   "cell_type": "code",
   "execution_count": 12,
   "metadata": {},
   "outputs": [
    {
     "data": {
      "text/plain": [
       "(0.22727272727272727, 1.1363636363636362)"
      ]
     },
     "execution_count": 12,
     "metadata": {},
     "output_type": "execute_result"
    }
   ],
   "source": [
    "Rbatt = 22\n",
    "Irbatt = VCC/Rbatt\n",
    "Prbatt = VCC * Irbatt\n",
    "(Irbatt, Prbatt)"
   ]
  },
  {
   "cell_type": "markdown",
   "metadata": {},
   "source": [
    "- 2N7000 Max I: $0.2\\ \\text{A}$, Peak: $0.8\\ \\text{A}$ ⇒ Mostly OK"
   ]
  },
  {
   "cell_type": "markdown",
   "metadata": {},
   "source": [
    "## ~~I2S bus~~\n",
    "\n",
    "- high speed, over ground plane\n",
    "- shorter as possible\n",
    "\n",
    "- Check resistors, it doesn't seem logical at all ⇒ ~~remove (direct connection, module is enough)~~\n",
    "\n",
    "$$\\text{microstrip thickness} = 0.2\\ \\text{mm} (8\\ \\text{mills})$$"
   ]
  },
  {
   "cell_type": "markdown",
   "metadata": {},
   "source": [
    "## Button & Status LED ✅\n",
    "\n",
    "- Create a simple multi-function push-button\n",
    "- Make a multicolor (RGB?) status LED"
   ]
  },
  {
   "cell_type": "code",
   "execution_count": 13,
   "metadata": {},
   "outputs": [
    {
     "data": {
      "text/plain": [
       "(76.99999999999999, 34.999999999999986, 30.999999999999982)"
      ]
     },
     "execution_count": 13,
     "metadata": {},
     "output_type": "execute_result"
    }
   ],
   "source": [
    "Vr = 1.76 # Ir = 44nA\n",
    "Vb = 2.60 # Ir = 44nA\n",
    "Vg = 2.68 # Ir = 44nA\n",
    "Irgbmax = 30e-3\n",
    "Iiomax = 20e-3\n",
    "Imax = min(Irgbmax, Iiomax)\n",
    "Rr, Rb, Rg = (Vio-Vr)/Imax, (Vio-Vb)/Imax, (Vio-Vg)/Imax\n",
    "(Rr, Rb, Rg)"
   ]
  },
  {
   "cell_type": "markdown",
   "metadata": {},
   "source": [
    "Resistance selection:\n",
    "- ~~Button: $1\\ \\text{k}\\Omega$ to 5V, $1.5\\ \\text{k}\\Omega$ to GND (voltage divider + pull-down)~~\n",
    "- Red: $100\\ \\Omega$ to PIN\n",
    "- Blue $68\\ \\Omega$ to PIN\n",
    "- Green: $220\\ \\Omega$ to PIN"
   ]
  },
  {
   "cell_type": "markdown",
   "metadata": {},
   "source": [
    "### Resistance selection issue for button\n",
    "\n",
    "2nd resistance selection for button due to absence of $1.5\\ \\text{k}\\Omega$ as SMD 0805\n",
    "\n",
    "$$V_{\\text{out}} = V_{\\text{in}} \\cdot \\frac{R_2}{R_1 + R_2}$$\n",
    "\n",
    "Selected $V_{\\text{out}} = 3.3\\,V$, $V_{\\text{in}} = 5\\,V$:\n",
    "\n",
    "$$3.3 = 5 \\cdot \\frac{R_2}{R_1 + R_2} \\implies \\frac{R_2}{R_1} = \\frac{0.66}{0.34} \\approx 1.94$$\n",
    "\n",
    "So, $R_2 \\approx 1.94 \\times R_1$\n",
    "- $R_1 = 2\\,\\text{k}\\Omega$, $R_2 = 3.3\\,\\text{k}\\Omega$ ⇒  $V_{\\text{out}} \\approx 3.11\\,V$\n",
    "- $R_1 = 2.2\\,\\text{k}\\Omega$, $R_2 = 4.7\\,\\text{k}\\Omega$ ⇒  $V_{\\text{out}} \\approx 3.41\\,V$ ✔️\n",
    "\n",
    "$I_{\\text{total}} = 0.724\\,\\text{mA}$\n",
    "\n",
    "- Button: $2.2\\ \\text{k}\\Omega$ to 5V, $4.7\\ \\text{k}\\Omega$ to GND (voltage divider + pull-down)"
   ]
  },
  {
   "cell_type": "code",
   "execution_count": 14,
   "metadata": {},
   "outputs": [
    {
     "data": {
      "text/plain": [
       "(3.88, 4.268, 0.0007246376811594203)"
      ]
     },
     "execution_count": 14,
     "metadata": {},
     "output_type": "execute_result"
    }
   ],
   "source": [
    "R2a = 2*1.94\n",
    "R2b = 2.2*1.94\n",
    "Itot = 5/(2.2e3+4.7e3)\n",
    "R2a, R2b, Itot"
   ]
  },
  {
   "cell_type": "markdown",
   "metadata": {},
   "source": [
    "## PMA8403 Module ✅\n",
    "\n",
    "- Place on the board\n",
    "- Wire GND between the I2S signals\n",
    "- Do footprint to keep spacing between slots\n"
   ]
  },
  {
   "cell_type": "markdown",
   "metadata": {},
   "source": [
    "## Resistor Check-Up ✅\n",
    "\n",
    "- `0805`: $1/8\\ W$\n",
    "- `1206`: $1/4\\ W$ (Mandatory for $R8$ & $R9$)"
   ]
  },
  {
   "cell_type": "code",
   "execution_count": 15,
   "metadata": {},
   "outputs": [
    {
     "data": {
      "text/plain": [
       "{'powers': (0.011363636363636364, 0.010889999999999999, 0.5, 0.004356, 0.0025),\n",
       " 'compatible': ['yes', 'yes', 'no', 'yes', 'yes']}"
      ]
     },
     "execution_count": 15,
     "metadata": {},
     "output_type": "execute_result"
    }
   ],
   "source": [
    "P_R1R2 = 5**2 / 2.2e3\n",
    "P_R3R10R16 = 3.3**2 / 1e3\n",
    "P_R8R9 = 5**2 / 50\n",
    "P_R11R12 = 3.3**2 / (1e3 + 1.5e3)\n",
    "P_R17R40 = 5**2 / 10e3\n",
    "powers = (P_R1R2, P_R3R10R16, P_R8R9, P_R11R12, P_R17R40)\n",
    "{\n",
    "    \"powers\": powers,\n",
    "    \"compatible\": [\"yes\" if i < (1/8) else \"no\" for i in powers]\n",
    "}"
   ]
  },
  {
   "cell_type": "markdown",
   "metadata": {},
   "source": [
    "- `0805` enough for all resistors except $R8$ and $R9$ (power drain keep alive)\n",
    "- `1206` minimal for $R8$ and $R9$."
   ]
  },
  {
   "cell_type": "markdown",
   "metadata": {},
   "source": [
    "## Reserved IO Checks ✅\n",
    "\n",
    "- Boot Mode strapping: GPIO0, GPIO2, **GPIO5**\n",
    "- GPIO5 is used as VSPICS\n",
    "- [Datasheet][3]\n",
    "- [Technical Reference Manual][2]\n",
    "- Both General Purpose SPI can use any GPIO ⇒ Move away frpom GPIO5\n",
    "\n",
    "- ⚠️ And <span style=\"color: red\">**GPIO 12**</span>!! (I forgot this one!) ⇒ `HSPI MOSI` needs to be moved to `GPIO34`. As my design is already sent to manufacture, I need to burn the eFuses!\n",
    "\n",
    "[2]: https://www.espressif.com/sites/default/files/documentation/esp32_technical_reference_manual_en.pdf\n",
    "[3]: https://www.espressif.com/sites/default/files/documentation/esp32_datasheet_en.pdf"
   ]
  },
  {
   "cell_type": "markdown",
   "metadata": {},
   "source": [
    "## DAC ✅\n",
    "\n",
    "- The lines are actually not I2S at all! Need the resistors and protect the lines from interferences.\n",
    "- Used $22\\ k\\Omega$ and $4.7\\ k\\Omega$ resistors like [in the blog post][4]\n",
    "\n",
    "[4]: https://www.az-delivery.de/en/blogs/azdelivery-blog-fur-arduino-und-raspberry-pi/internet-radio-mit-dem-esp32\n"
   ]
  },
  {
   "cell_type": "markdown",
   "metadata": {},
   "source": [
    "## MOSFETs as GND switches ✅\n",
    "\n",
    "- After remarks from https://www.eevblog.com/forum/projects/need-review-diy-calendar-house/msg5722997/#msg5722997\n",
    "- Following https://www.electronics-tutorials.ws/transistor/tran_7.html\n",
    "- Reworked all three switches\n",
    "\n",
    "Still not OK, the voltage drop can reach $0.2\\ V$. It's okay for the Hall sensors, but not if chained. ⇒ removing EXT_GND switch, adding specific logic to turn LEDs off using OE pin. ⇒ DONE.\n"
   ]
  },
  {
   "cell_type": "code",
   "execution_count": null,
   "metadata": {},
   "outputs": [],
   "source": []
  }
 ],
 "metadata": {
  "kernelspec": {
   "display_name": "base",
   "language": "python",
   "name": "python3"
  },
  "language_info": {
   "codemirror_mode": {
    "name": "ipython",
    "version": 3
   },
   "file_extension": ".py",
   "mimetype": "text/x-python",
   "name": "python",
   "nbconvert_exporter": "python",
   "pygments_lexer": "ipython3",
   "version": "3.12.7"
  }
 },
 "nbformat": 4,
 "nbformat_minor": 2
}
