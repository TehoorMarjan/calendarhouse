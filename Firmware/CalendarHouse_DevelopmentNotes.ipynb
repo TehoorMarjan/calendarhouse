{
 "cells": [
  {
   "cell_type": "markdown",
   "metadata": {},
   "source": [
    "## Development Notes\n",
    "\n",
    "Board: Rev A2.3"
   ]
  },
  {
   "cell_type": "code",
   "execution_count": 1,
   "metadata": {},
   "outputs": [],
   "source": [
    "import math"
   ]
  },
  {
   "cell_type": "markdown",
   "metadata": {},
   "source": [
    "## SD Card 🛠️\n",
    "\n",
    "```c\n",
    "#define SD_CS     (15)\n",
    "#define SD_MISO   (12)  // Tested on pin 34 due to GPIO 12 issue\n",
    "#define SD_MOSI   (13)\n",
    "#define SD_CLK    (14)\n",
    "```\n",
    "\n",
    "- Proof Of Concept ✅\n",
    "- Need to burn eFuse due to `GPIO 12` being used for `VDD_SDIO` voltage selection, and the `HSPI_MISO` pin on this is not OK.\n",
    "\n",
    "[eFuse Reference (mostly useless)][1] Steps to follow are here below\n",
    "\n",
    "```sh\n",
    "pip install cryptography ecdsa pyaml bitstring reedsolo\n",
    "pio pkg exec -- espefuse.py --port COM4 summary\n",
    "```\n",
    "\n",
    "```raw\n",
    "Vdd fuses:\n",
    "XPD_SDIO_REG (BLOCK0)                              read for XPD_SDIO_REG                              = False R/W (0b0)\n",
    "XPD_SDIO_TIEH (BLOCK0)                             If XPD_SDIO_FORCE & XPD_SDIO_REG                   = 1.8V R/W (0b0)\n",
    "XPD_SDIO_FORCE (BLOCK0)                            Ignore MTDI pin (GPIO12) for VDD_SDIO on reset     = False R/W (0b0)\n",
    "\n",
    "Flash voltage (VDD_SDIO) determined by GPIO12 on reset (High for 1.8V, Low/NC for 3.3V)\n",
    "```\n",
    "\n",
    "Burn eFuse to free `GPIO12`:\n",
    "\n",
    "```sh\n",
    "pio pkg exec -- espefuse.py --port COM4 burn_efuse XPD_SDIO_FORCE  # Do not consider GPIO12\n",
    "pio pkg exec -- espefuse.py --port COM4 burn_efuse XPD_SDIO_TIEH   # Set VDD_SDIO to 3V3\n",
    "pio pkg exec -- espefuse.py --port COM4 burn_efuse XPD_SDIO_REG    # Use XPD_SDIO_TIEH to set VDD_SDIO\n",
    "```\n",
    "\n",
    "```raw\n",
    "Vdd fuses:\n",
    "XPD_SDIO_REG (BLOCK0)                              read for XPD_SDIO_REG                              = True R/W (0b1)\n",
    "XPD_SDIO_TIEH (BLOCK0)                             If XPD_SDIO_FORCE & XPD_SDIO_REG                   = 3.3V R/W (0b1)\n",
    "XPD_SDIO_FORCE (BLOCK0)                            Ignore MTDI pin (GPIO12) for VDD_SDIO on reset     = True R/W (0b1)\n",
    "```\n",
    "\n",
    "- Moved to separate class (not defined yet) 🛠️\n",
    "\n",
    "[1]: https://docs.espressif.com/projects/esp-idf/en/latest/esp32/api-reference/system/efuse.html"
   ]
  },
  {
   "cell_type": "markdown",
   "metadata": {},
   "source": [
    "## Calendar LEDs ✅\n",
    "\n",
    "- 🟡 <span style=\"color: red\">**GPIO35 is only input**</span> Once again, GPIO check failed. Will not use this pin ⇒ oe will not be connected.\n",
    "- Proof of concept using Adafruit library ✅\n",
    "- Move to use VSPI ✅\n",
    "- Fixed array size: $36\\ B$\n",
    "- Implement own library ✅"
   ]
  },
  {
   "cell_type": "code",
   "execution_count": 2,
   "metadata": {},
   "outputs": [
    {
     "data": {
      "text/plain": [
       "36"
      ]
     },
     "execution_count": 2,
     "metadata": {},
     "output_type": "execute_result"
    }
   ],
   "source": [
    "# Necessary buffer size\n",
    "pwmbits = 12\n",
    "channels = 24\n",
    "nbmodules = 1\n",
    "bitsperbytes = 8\n",
    "pwmarraysize = math.ceil((pwmbits * channels * nbmodules)/bitsperbytes)\n",
    "pwmarraysize"
   ]
  },
  {
   "cell_type": "markdown",
   "metadata": {},
   "source": [
    "## DAC Audio\n",
    "\n",
    "Whatever I do, this audio sounds absolutely awful. It seems that this library is too old, only works with older versions of the I²S framework. Will try to use the real I²S features. Rewiring of the card is needed but possible. Bought some `MAX98357A` I²S decoders and amplifiers.\n"
   ]
  },
  {
   "cell_type": "markdown",
   "metadata": {},
   "source": [
    "## I²S Audio ✅\n",
    "\n",
    "- Destroyed PCB track from button to IO27 to free this PIN ✔️\n",
    "- Using [schreibfaul1/ESP32-audioI2S](https://github.com/schreibfaul1/ESP32-audioI2S) library ✔️\n",
    "- Will use same PINs: I2S_DOUT = 25, I2S_BCLK = 27, I2S_LRC = 26 ✔️\n",
    "- MAX98357A was monted as single output, no research for stereo yet. ✔️\n",
    "- Finally, output is very satifying! 😀"
   ]
  }
 ],
 "metadata": {
  "kernelspec": {
   "display_name": "base",
   "language": "python",
   "name": "python3"
  },
  "language_info": {
   "codemirror_mode": {
    "name": "ipython",
    "version": 3
   },
   "file_extension": ".py",
   "mimetype": "text/x-python",
   "name": "python",
   "nbconvert_exporter": "python",
   "pygments_lexer": "ipython3",
   "version": "3.12.7"
  }
 },
 "nbformat": 4,
 "nbformat_minor": 2
}
